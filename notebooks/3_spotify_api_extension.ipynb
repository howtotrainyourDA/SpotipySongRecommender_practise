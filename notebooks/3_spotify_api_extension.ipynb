{
 "cells": [
  {
   "cell_type": "code",
   "execution_count": 9,
   "metadata": {},
   "outputs": [],
   "source": [
    "import os\n",
    "import pandas as pd\n",
    "import time\n",
    "import datetime\n",
    "import spotipy\n",
    "from spotipy.oauth2 import SpotifyClientCredentials\n",
    "\n",
    "\n",
    "SPOTIPY_CLIENT_ID = os.getenv('SPOTIPY_CLIENT_ID')\n",
    "SPOTIPY_CLIENT_SECRET = os.getenv('SPOTIPY_CLIENT_SECRET')"
   ]
  },
  {
   "cell_type": "code",
   "execution_count": 2,
   "metadata": {},
   "outputs": [
    {
     "name": "stdout",
     "output_type": "stream",
     "text": [
      "ff3012948a6f43dab91e79551f1a7a1f\n",
      "922517197d414ec48a56a14f08ecd0ca\n"
     ]
    }
   ],
   "source": [
    "print(SPOTIPY_CLIENT_ID)\n",
    "print(SPOTIPY_CLIENT_SECRET)"
   ]
  },
  {
   "cell_type": "code",
   "execution_count": 3,
   "metadata": {},
   "outputs": [
    {
     "data": {
      "text/html": [
       "<div>\n",
       "<style scoped>\n",
       "    .dataframe tbody tr th:only-of-type {\n",
       "        vertical-align: middle;\n",
       "    }\n",
       "\n",
       "    .dataframe tbody tr th {\n",
       "        vertical-align: top;\n",
       "    }\n",
       "\n",
       "    .dataframe thead th {\n",
       "        text-align: right;\n",
       "    }\n",
       "</style>\n",
       "<table border=\"1\" class=\"dataframe\">\n",
       "  <thead>\n",
       "    <tr style=\"text-align: right;\">\n",
       "      <th></th>\n",
       "      <th>title</th>\n",
       "      <th>artist</th>\n",
       "      <th>hot</th>\n",
       "    </tr>\n",
       "  </thead>\n",
       "  <tbody>\n",
       "    <tr>\n",
       "      <th>0</th>\n",
       "      <td>Die With A Smile</td>\n",
       "      <td>Lady Gaga &amp; Bruno Mars</td>\n",
       "      <td>1</td>\n",
       "    </tr>\n",
       "    <tr>\n",
       "      <th>1</th>\n",
       "      <td>A Bar Song (Tipsy)</td>\n",
       "      <td>Shaboozey</td>\n",
       "      <td>1</td>\n",
       "    </tr>\n",
       "    <tr>\n",
       "      <th>2</th>\n",
       "      <td>Birds Of A Feather</td>\n",
       "      <td>Billie Eilish</td>\n",
       "      <td>1</td>\n",
       "    </tr>\n",
       "    <tr>\n",
       "      <th>3</th>\n",
       "      <td>Lose Control</td>\n",
       "      <td>Teddy Swims</td>\n",
       "      <td>1</td>\n",
       "    </tr>\n",
       "    <tr>\n",
       "      <th>4</th>\n",
       "      <td>APT.</td>\n",
       "      <td>ROSE &amp; Bruno Mars</td>\n",
       "      <td>1</td>\n",
       "    </tr>\n",
       "  </tbody>\n",
       "</table>\n",
       "</div>"
      ],
      "text/plain": [
       "                title                  artist  hot\n",
       "0    Die With A Smile  Lady Gaga & Bruno Mars    1\n",
       "1  A Bar Song (Tipsy)               Shaboozey    1\n",
       "2  Birds Of A Feather           Billie Eilish    1\n",
       "3        Lose Control             Teddy Swims    1\n",
       "4                APT.       ROSE & Bruno Mars    1"
      ]
     },
     "execution_count": 3,
     "metadata": {},
     "output_type": "execute_result"
    }
   ],
   "source": [
    "df_combined_clean = pd.read_csv('..\\\\data\\\\3_combined_clean.csv')\n",
    "df_combined_clean.head()\n"
   ]
  },
  {
   "cell_type": "code",
   "execution_count": null,
   "metadata": {},
   "outputs": [],
   "source": [
    "\n",
    "lz_uri = 'spotify:artist:36QJpDe2go2KgaRleHCDTp'\n",
    "\n",
    "spotify = spotipy.Spotify(client_credentials_manager=SpotifyClientCredentials(client_id=SPOTIPY_CLIENT_ID, client_secret=SPOTIPY_CLIENT_SECRET))\n",
    "\n",
    "results = spotify.artist_top_tracks(lz_uri)\n",
    "\n",
    "for track in results['tracks'][:10]:\n",
    "    print('track    : ' + track['name'])\n",
    "    print('cover art: ' + track['album']['images'][0]['url'])\n",
    "    print()"
   ]
  },
  {
   "cell_type": "code",
   "execution_count": null,
   "metadata": {},
   "outputs": [],
   "source": [
    "print(results[\"tracks\"][0][\"name\"])"
   ]
  },
  {
   "cell_type": "code",
   "execution_count": 7,
   "metadata": {},
   "outputs": [],
   "source": [
    "import spotipy\n",
    "from spotipy.oauth2 import SpotifyClientCredentials\n",
    "\n",
    "lz_uri = 'spotify:artist:36QJpDe2go2KgaRleHCDTp'\n",
    "\n",
    "spotify = spotipy.Spotify(client_credentials_manager=SpotifyClientCredentials(client_id=SPOTIPY_CLIENT_ID, client_secret=SPOTIPY_CLIENT_SECRET))\n",
    "\n",
    "results = spotify.search(q=\"artist:Lana Del Rey track:Born to die\", type='track', limit = 10)"
   ]
  },
  {
   "cell_type": "code",
   "execution_count": 7,
   "metadata": {},
   "outputs": [
    {
     "ename": "NameError",
     "evalue": "name 'results' is not defined",
     "output_type": "error",
     "traceback": [
      "\u001b[1;31m---------------------------------------------------------------------------\u001b[0m",
      "\u001b[1;31mNameError\u001b[0m                                 Traceback (most recent call last)",
      "Cell \u001b[1;32mIn[7], line 1\u001b[0m\n\u001b[1;32m----> 1\u001b[0m \u001b[38;5;28mprint\u001b[39m(\u001b[43mresults\u001b[49m)\n",
      "\u001b[1;31mNameError\u001b[0m: name 'results' is not defined"
     ]
    }
   ],
   "source": [
    "print(results)\n"
   ]
  },
  {
   "cell_type": "code",
   "execution_count": null,
   "metadata": {},
   "outputs": [],
   "source": [
    "artist_id = results['tracks']['items'][0]['artists'][0]['id']\n",
    "print(artist_id)"
   ]
  },
  {
   "cell_type": "code",
   "execution_count": null,
   "metadata": {},
   "outputs": [],
   "source": [
    "print(results[\"tracks\"][\"items\"])"
   ]
  },
  {
   "cell_type": "code",
   "execution_count": null,
   "metadata": {},
   "outputs": [],
   "source": [
    "artist_results = spotify.artist(artist_id)\n",
    "print(artist_results)\n"
   ]
  },
  {
   "cell_type": "code",
   "execution_count": null,
   "metadata": {},
   "outputs": [],
   "source": [
    "album_id = results['tracks']['items'][0]['album']['id']\n",
    "print(album_id)\n",
    "\n",
    "album_results = spotify.album(album_id)\n",
    "print(album_results)\n",
    "\n"
   ]
  },
  {
   "cell_type": "code",
   "execution_count": null,
   "metadata": {},
   "outputs": [],
   "source": [
    "# Import time for rate limiting\n",
    "\n",
    "# Create empty lists to store the new data\n",
    "popularities = []\n",
    "genres = []\n",
    "not_found = []\n",
    "\n",
    "# Process only first 100 songs\n",
    "for index, row in df_combined_clean.iterrows():\n",
    "    try:\n",
    "        # Search for the track\n",
    "        results = spotify.search(q=f\"artist:{row['artist']} track:{row['title']}\", type='track', limit=1)\n",
    "        \n",
    "        if results['tracks']['items']:\n",
    "            # Get track popularity\n",
    "            popularity = results['tracks']['items'][0]['popularity']\n",
    "            \n",
    "            # Get artist ID and their genres\n",
    "            artist_id = results['tracks']['items'][0]['artists'][0]['id']\n",
    "            artist_info = spotify.artist(artist_id)\n",
    "            artist_genres = artist_info['genres']\n",
    "            \n",
    "            popularities.append(popularity)\n",
    "            genres.append(artist_genres)\n",
    "        else:\n",
    "            popularities.append(None)\n",
    "            genres.append(None)\n",
    "            not_found.append(f\"{row['title']} by {row['artist']}\")\n",
    "        \n",
    "        # Add rate limiting break every 50 songs\n",
    "        if (index + 1) % 50 == 0:\n",
    "            print(f\"Processed {index + 1} songs. Taking a 30 second break...\")\n",
    "            time.sleep(30)\n",
    "            \n",
    "    except Exception as e:\n",
    "        print(f\"Error processing {row['title']} by {row['artist']}: {str(e)}\")\n",
    "        popularities.append(None)\n",
    "        genres.append(None)\n",
    "        not_found.append(f\"{row['title']} by {row['artist']}\")\n",
    "\n",
    "# Add new columns to the dataframe\n",
    "df_combined_clean.loc[:99, 'popularity'] = popularities\n",
    "#df_combined_clean.loc[:99, 'genres'] = genres\n"
   ]
  },
  {
   "cell_type": "code",
   "execution_count": null,
   "metadata": {},
   "outputs": [],
   "source": [
    "# Show results\n",
    "print(f\"\\nSongs not found: {len(not_found)}\")\n",
    "print(\"\\nFirst few rows of updated dataset:\")\n",
    "print(df_combined_clean.head())"
   ]
  },
  {
   "cell_type": "code",
   "execution_count": null,
   "metadata": {},
   "outputs": [],
   "source": [
    "# Process settings\n",
    "BATCH_SIZE = 50\n",
    "SLEEP_TIME = 30\n",
    "\n",
    "# Get the last processed index from existing backup file\n",
    "backup_file = '..\\\\data\\\\4_spotify_songs.csv'\n",
    "if os.path.exists(backup_file):\n",
    "    processed_df = pd.read_csv(backup_file)\n",
    "    start_index = len(processed_df)\n",
    "    print(f'Resuming from index {start_index}')\n",
    "else:\n",
    "    start_index = 0\n",
    "    print('Starting new processing')\n",
    "\n",
    "# Process in batches\n",
    "for start_idx in range(start_index, len(df_combined_clean), BATCH_SIZE):\n",
    "    batch = df_combined_clean.iloc[start_idx:start_idx + BATCH_SIZE]\n",
    "    tracks_data = []\n",
    "    \n",
    "    print(f'\\nProcessing batch {start_idx//BATCH_SIZE + 1} of {len(df_combined_clean)//BATCH_SIZE + 1}')\n",
    "    print(f'Processing rows {start_idx} to {min(start_idx + BATCH_SIZE, len(df_combined_clean))}')\n",
    "    \n",
    "    for i, row in batch.iterrows():\n",
    "        try:\n",
    "            # search track\n",
    "            results = spotify.search(q=f'track:{row[\"song_title\"]} artist:{row[\"artist\"]}', type='track', limit=1)\n",
    "            \n",
    "            if results['tracks']['items']:\n",
    "                track = results['tracks']['items'][0]\n",
    "                \n",
    "                # get genres\n",
    "                artist_id = track['artists'][0]['id']\n",
    "                artist_info = spotify.artist(artist_id)\n",
    "                genres = artist_info['genres']\n",
    "                \n",
    "                tracks_data.append({\n",
    "                    'original_title': row['song_title'],\n",
    "                    'original_artist': row['artist'],\n",
    "                    'spotify_title': track['name'],\n",
    "                    'spotify_artist': track['artists'][0]['name'],\n",
    "                    'album': track['album']['name'],\n",
    "                    'release_date': track['album']['release_date'],\n",
    "                    'popularity': track['popularity'],\n",
    "                    'duration_ms': track['duration_ms'],\n",
    "                    'explicit': track['explicit'],\n",
    "                    'album_cover': track['album']['images'][0]['url'] if track['album']['images'] else None,\n",
    "                    'genres': genres if genres else None\n",
    "                })\n",
    "                \n",
    "        except Exception as e:\n",
    "            print(f'Error processing track {row[\"song_title\"]}: {str(e)}')\n",
    "            continue\n",
    "    \n",
    "    # Save batch results\n",
    "    if tracks_data:\n",
    "        temp_df = pd.DataFrame(tracks_data)\n",
    "        temp_df.to_csv(backup_file, \n",
    "                      mode='a', \n",
    "                      header=not os.path.exists(backup_file), \n",
    "                      index=False)\n",
    "        \n",
    "        timestamp = datetime.now().strftime('%H:%M:%S')\n",
    "        print(f'Batch completed at {timestamp}')\n",
    "        print(f'Processed {len(tracks_data)} tracks in this batch')\n",
    "        print(f'Total tracks processed: {start_idx + len(tracks_data)}')\n",
    "        print(f'Last track processed: {row[\"song_title\"]}')\n",
    "        print(f'Last track genres: {genres if genres else \"No genres found\"}')\n",
    "        \n",
    "        if start_idx + BATCH_SIZE < len(million_songs_df):  # Don't sleep after the last batch\n",
    "            print(f'Sleeping for {SLEEP_TIME} seconds...')\n",
    "            print('-' * 50)\n",
    "            time.sleep(SLEEP_TIME)\n",
    "\n",
    "print(f'\\nAll batches processed!')\n",
    "print(f'Final total tracks processed: {start_idx + len(tracks_data)}')"
   ]
  },
  {
   "cell_type": "code",
   "execution_count": 5,
   "metadata": {},
   "outputs": [],
   "source": [
    "df_combined_clean.to_csv('..\\\\data\\\\4_extended_features.csv', index=False)"
   ]
  },
  {
   "cell_type": "code",
   "execution_count": null,
   "metadata": {},
   "outputs": [],
   "source": []
  },
  {
   "cell_type": "code",
   "execution_count": null,
   "metadata": {},
   "outputs": [],
   "source": []
  },
  {
   "cell_type": "code",
   "execution_count": null,
   "metadata": {},
   "outputs": [],
   "source": []
  },
  {
   "cell_type": "code",
   "execution_count": 10,
   "metadata": {},
   "outputs": [
    {
     "data": {
      "text/html": [
       "<div>\n",
       "<style scoped>\n",
       "    .dataframe tbody tr th:only-of-type {\n",
       "        vertical-align: middle;\n",
       "    }\n",
       "\n",
       "    .dataframe tbody tr th {\n",
       "        vertical-align: top;\n",
       "    }\n",
       "\n",
       "    .dataframe thead th {\n",
       "        text-align: right;\n",
       "    }\n",
       "</style>\n",
       "<table border=\"1\" class=\"dataframe\">\n",
       "  <thead>\n",
       "    <tr style=\"text-align: right;\">\n",
       "      <th></th>\n",
       "      <th>original_title</th>\n",
       "      <th>original_artist</th>\n",
       "      <th>spotify_title</th>\n",
       "      <th>spotify_artist</th>\n",
       "      <th>album</th>\n",
       "      <th>release_date</th>\n",
       "      <th>popularity</th>\n",
       "      <th>duration_ms</th>\n",
       "      <th>explicit</th>\n",
       "      <th>album_cover</th>\n",
       "      <th>genres</th>\n",
       "    </tr>\n",
       "  </thead>\n",
       "  <tbody>\n",
       "    <tr>\n",
       "      <th>0</th>\n",
       "      <td>Je Sais Que La Terre Est Plate</td>\n",
       "      <td>Raphaël</td>\n",
       "      <td>Je sais que la Terre est plate</td>\n",
       "      <td>Raphaël</td>\n",
       "      <td>Je Sais Que La Terre Est Plate</td>\n",
       "      <td>2008-03-14</td>\n",
       "      <td>14</td>\n",
       "      <td>150040</td>\n",
       "      <td>False</td>\n",
       "      <td>https://i.scdn.co/image/ab67616d0000b2739e6b95...</td>\n",
       "      <td>['chanson', 'french pop', 'french rock', 'nouv...</td>\n",
       "    </tr>\n",
       "    <tr>\n",
       "      <th>1</th>\n",
       "      <td>On Efface</td>\n",
       "      <td>Julie Zenatti</td>\n",
       "      <td>On efface</td>\n",
       "      <td>Julie Zenatti</td>\n",
       "      <td>Comme vous...</td>\n",
       "      <td>2004-03-21</td>\n",
       "      <td>1</td>\n",
       "      <td>253000</td>\n",
       "      <td>False</td>\n",
       "      <td>https://i.scdn.co/image/ab67616d0000b27398d445...</td>\n",
       "      <td>['chanson', 'french pop']</td>\n",
       "    </tr>\n",
       "    <tr>\n",
       "      <th>2</th>\n",
       "      <td>Howells Delight</td>\n",
       "      <td>The Baltimore Consort</td>\n",
       "      <td>Howells Delight</td>\n",
       "      <td>Anonymous</td>\n",
       "      <td>The Best of the Baltimore Consort</td>\n",
       "      <td>2011-02-01</td>\n",
       "      <td>3</td>\n",
       "      <td>240400</td>\n",
       "      <td>False</td>\n",
       "      <td>https://i.scdn.co/image/ab67616d0000b27353a906...</td>\n",
       "      <td>['medieval']</td>\n",
       "    </tr>\n",
       "    <tr>\n",
       "      <th>3</th>\n",
       "      <td>Martha Served</td>\n",
       "      <td>I Hate Sally</td>\n",
       "      <td>Martha Served</td>\n",
       "      <td>I Hate Sally</td>\n",
       "      <td>Don't Worry Lady</td>\n",
       "      <td>2007-06-12</td>\n",
       "      <td>1</td>\n",
       "      <td>138760</td>\n",
       "      <td>True</td>\n",
       "      <td>https://i.scdn.co/image/ab67616d0000b273e6d949...</td>\n",
       "      <td>['canadian metal', 'canadian post-hardcore', '...</td>\n",
       "    </tr>\n",
       "    <tr>\n",
       "      <th>4</th>\n",
       "      <td>Zip-A-Dee-Doo-Dah</td>\n",
       "      <td>Orlando Pops Orchestra</td>\n",
       "      <td>Zip-a-Dee-Doo-Dah (From \"Song of the South\")</td>\n",
       "      <td>Orlando Pops Orchestra</td>\n",
       "      <td>Most Amazing Movie, Musical &amp; TV Themes, Vol.6</td>\n",
       "      <td>2022-10-07</td>\n",
       "      <td>0</td>\n",
       "      <td>199986</td>\n",
       "      <td>False</td>\n",
       "      <td>https://i.scdn.co/image/ab67616d0000b27349ea4d...</td>\n",
       "      <td>['pops orchestra']</td>\n",
       "    </tr>\n",
       "  </tbody>\n",
       "</table>\n",
       "</div>"
      ],
      "text/plain": [
       "                   original_title         original_artist  \\\n",
       "0  Je Sais Que La Terre Est Plate                 Raphaël   \n",
       "1                       On Efface           Julie Zenatti   \n",
       "2                 Howells Delight   The Baltimore Consort   \n",
       "3                   Martha Served            I Hate Sally   \n",
       "4              Zip-A-Dee-Doo-Dah   Orlando Pops Orchestra   \n",
       "\n",
       "                                  spotify_title          spotify_artist  \\\n",
       "0                Je sais que la Terre est plate                 Raphaël   \n",
       "1                                     On efface           Julie Zenatti   \n",
       "2                               Howells Delight               Anonymous   \n",
       "3                                 Martha Served            I Hate Sally   \n",
       "4  Zip-a-Dee-Doo-Dah (From \"Song of the South\")  Orlando Pops Orchestra   \n",
       "\n",
       "                                            album release_date  popularity  \\\n",
       "0                  Je Sais Que La Terre Est Plate   2008-03-14          14   \n",
       "1                                   Comme vous...   2004-03-21           1   \n",
       "2               The Best of the Baltimore Consort   2011-02-01           3   \n",
       "3                                Don't Worry Lady   2007-06-12           1   \n",
       "4  Most Amazing Movie, Musical & TV Themes, Vol.6   2022-10-07           0   \n",
       "\n",
       "   duration_ms  explicit                                        album_cover  \\\n",
       "0       150040     False  https://i.scdn.co/image/ab67616d0000b2739e6b95...   \n",
       "1       253000     False  https://i.scdn.co/image/ab67616d0000b27398d445...   \n",
       "2       240400     False  https://i.scdn.co/image/ab67616d0000b27353a906...   \n",
       "3       138760      True  https://i.scdn.co/image/ab67616d0000b273e6d949...   \n",
       "4       199986     False  https://i.scdn.co/image/ab67616d0000b27349ea4d...   \n",
       "\n",
       "                                              genres  \n",
       "0  ['chanson', 'french pop', 'french rock', 'nouv...  \n",
       "1                          ['chanson', 'french pop']  \n",
       "2                                       ['medieval']  \n",
       "3  ['canadian metal', 'canadian post-hardcore', '...  \n",
       "4                                 ['pops orchestra']  "
      ]
     },
     "execution_count": 10,
     "metadata": {},
     "output_type": "execute_result"
    }
   ],
   "source": [
    "df_spotify_songs = pd.read_csv('..\\\\data\\\\4_spotify_million_tracks.csv')\n",
    "\n",
    "df_spotify_songs.head()"
   ]
  },
  {
   "cell_type": "code",
   "execution_count": 17,
   "metadata": {},
   "outputs": [
    {
     "data": {
      "text/plain": [
       "array([\"['chanson', 'french pop', 'french rock', 'nouvelle chanson francaise']\",\n",
       "       \"['chanson', 'french pop']\", \"['medieval']\", ...,\n",
       "       \"['country rap', 'horrorcore']\", \"['jazz fusion', 'jazz guitar']\",\n",
       "       \"['progressive sludge', 'sludge metal']\"],\n",
       "      shape=(1852,), dtype=object)"
      ]
     },
     "execution_count": 17,
     "metadata": {},
     "output_type": "execute_result"
    }
   ],
   "source": [
    "df_spotify_songs.genres.unique()\n",
    "\n",
    "all_genres = "
   ]
  }
 ],
 "metadata": {
  "kernelspec": {
   "display_name": ".venv",
   "language": "python",
   "name": "python3"
  },
  "language_info": {
   "codemirror_mode": {
    "name": "ipython",
    "version": 3
   },
   "file_extension": ".py",
   "mimetype": "text/x-python",
   "name": "python",
   "nbconvert_exporter": "python",
   "pygments_lexer": "ipython3",
   "version": "3.12.6"
  }
 },
 "nbformat": 4,
 "nbformat_minor": 2
}
