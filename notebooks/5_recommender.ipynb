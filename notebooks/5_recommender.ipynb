{
 "cells": [
  {
   "cell_type": "code",
   "execution_count": 1,
   "metadata": {},
   "outputs": [],
   "source": [
    "# Import necessary libraries\n",
    "import pandas as pd\n",
    "import numpy as np\n",
    "import pickle\n",
    "from datetime import datetime\n",
    "import warnings\n",
    "warnings.filterwarnings('ignore')\n",
    "import os\n",
    "import spotipy\n",
    "from spotipy.oauth2 import SpotifyClientCredentials\n",
    "import joblib\n",
    "\n",
    "# Load models and scaler only once\n",
    "spotify_scaler = joblib.load('../scaler/spotify_scaler.pkl')\n",
    "kmeans_model = joblib.load('../models/kmeans_model.pkl')\n",
    "\n",
    "\n",
    "SPOTIPY_CLIENT_ID = os.getenv('SPOTIPY_CLIENT_ID')\n",
    "SPOTIPY_CLIENT_SECRET = os.getenv('SPOTIPY_CLIENT_SECRET')\n",
    "\n",
    "# Initialize Spotify client\n",
    "spotify = spotipy.Spotify(client_credentials_manager=SpotifyClientCredentials(client_id=SPOTIPY_CLIENT_ID, client_secret=SPOTIPY_CLIENT_SECRET))"
   ]
  },
  {
   "cell_type": "code",
   "execution_count": 2,
   "metadata": {},
   "outputs": [],
   "source": [
    "\n",
    "def search_song(song_name, popularity_range, year_range, hot_songs_only):\n",
    "    \"\"\"\n",
    "    Search for a song and create a DataFrame with the relevant song details.\n",
    "    \"\"\"\n",
    "    query = song_name\n",
    "    results = spotify.search(q=query, type='track', limit=15)  # Limit to 50 for better result matching\n",
    "\n",
    "    if not results['tracks']['items']:\n",
    "        return None\n",
    "\n",
    "    tracks_info = []\n",
    "    \n",
    "    for track in results['tracks']['items']:\n",
    "\n",
    "        artist_id = track['artists'][0]['id']\n",
    "        artist_info = spotify.artist(artist_id)\n",
    "        genres = artist_info['genres']\n",
    "        track_info = {\n",
    "                'original_title': track['title'],\n",
    "                'original_artist': track['artist'],\n",
    "                'spotify_title': track['name'],\n",
    "                'spotify_artist': track['artists'][0]['name'],\n",
    "                'album': track['album']['name'],\n",
    "                'release_date': track['album']['release_date'],\n",
    "                'popularity': track['popularity'],\n",
    "                'duration_ms': track['duration_ms'],\n",
    "                'explicit': track['explicit'],\n",
    "                'album_cover': track['album']['images'][0]['url'] if track['album']['images'] else None,\n",
    "                'genres': genres\n",
    "            }\n",
    "        \n",
    "\n",
    "        # Filter based on popularity and year range\n",
    "        if not (popularity_range[0] <= track_info['popularity'] <= popularity_range[1]):\n",
    "            continue\n",
    "        if not (year_range[0] <= track_info['year'] <= year_range[1]):\n",
    "            continue\n",
    "        if hot_songs_only and track_info['popularity'] < 50:\n",
    "            continue  # Skip songs with low popularity if hot_songs_only is checked\n",
    "\n",
    "        tracks_info.append(track_info)\n",
    "\n",
    "    return pd.DataFrame(tracks_info)"
   ]
  },
  {
   "cell_type": "code",
   "execution_count": 3,
   "metadata": {},
   "outputs": [
    {
     "name": "stderr",
     "output_type": "stream",
     "text": [
      "WARNING:root:Your application has reached a rate/request limit. Retry will occur after: 12192\n"
     ]
    }
   ],
   "source": [
    "track_info_df = search_song(\"Bohemian Rhapsody\", (0, 100), (1900, 2024), True)\n",
    "track_info_df.head(10)\n"
   ]
  },
  {
   "cell_type": "code",
   "execution_count": 46,
   "metadata": {},
   "outputs": [],
   "source": [
    "def get_recommendations(selected_track_info, n_recommendations=10):\n",
    "    \"\"\"\n",
    "    Main recommendation function that takes a song's details and provides song recommendations.\n",
    "    \"\"\"\n",
    "    # 1. Use the selected track info directly (already passed as a dict)\n",
    "    user_song_df = pd.DataFrame([selected_track_info])\n",
    "\n",
    "    # 2. Scale the features and predict cluster\n",
    "    scaled_features = spotify_scaler.transform(user_song_df[['popularity', 'duration_ms', 'explicit']])\n",
    "    cluster = kmeans_model.predict(scaled_features)[0]\n",
    "\n",
    "    # 3. Load clustered dataset and filter for the same cluster\n",
    "    clustered_df = pd.read_csv('../data/8_spotify_million_tracks_clustered.csv')\n",
    "    cluster_songs = clustered_df[clustered_df['cluster'] == cluster]\n",
    "\n",
    "    # 4. Get recommendations excluding the input song\n",
    "    recommendations = cluster_songs[\n",
    "        (cluster_songs['spotify_title'] != selected_track_info['spotify_title']) |\n",
    "        (cluster_songs['spotify_artist'] != selected_track_info['spotify_artist'])\n",
    "    ]\n",
    "    recommendations = recommendations.nlargest(n_recommendations, 'popularity')\n",
    "\n",
    "    return recommendations[['spotify_title', 'spotify_artist', 'popularity', 'album_cover']]"
   ]
  },
  {
   "cell_type": "code",
   "execution_count": 48,
   "metadata": {},
   "outputs": [
    {
     "data": {
      "text/plain": [
       "spotify_title                   Bohemian Rhapsody - Remastered 2011\n",
       "spotify_artist                                                Queen\n",
       "popularity                                                       52\n",
       "release_date                                             1981-10-26\n",
       "explicit                                                      False\n",
       "album_cover       https://i.scdn.co/image/ab67616d0000b273bb19d0...\n",
       "year                                                           1981\n",
       "Name: 3, dtype: object"
      ]
     },
     "execution_count": 48,
     "metadata": {},
     "output_type": "execute_result"
    }
   ],
   "source": [
    "track_info_df.iloc[3]"
   ]
  },
  {
   "cell_type": "code",
   "execution_count": 47,
   "metadata": {},
   "outputs": [
    {
     "ename": "KeyError",
     "evalue": "\"['duration_ms'] not in index\"",
     "output_type": "error",
     "traceback": [
      "\u001b[1;31m---------------------------------------------------------------------------\u001b[0m",
      "\u001b[1;31mKeyError\u001b[0m                                  Traceback (most recent call last)",
      "Cell \u001b[1;32mIn[47], line 1\u001b[0m\n\u001b[1;32m----> 1\u001b[0m recommendations \u001b[38;5;241m=\u001b[39m \u001b[43mget_recommendations\u001b[49m\u001b[43m(\u001b[49m\u001b[43mtrack_info_df\u001b[49m\u001b[38;5;241;43m.\u001b[39;49m\u001b[43miloc\u001b[49m\u001b[43m[\u001b[49m\u001b[38;5;241;43m3\u001b[39;49m\u001b[43m]\u001b[49m\u001b[43m)\u001b[49m\n\u001b[0;32m      2\u001b[0m recommendations\n",
      "Cell \u001b[1;32mIn[46], line 9\u001b[0m, in \u001b[0;36mget_recommendations\u001b[1;34m(selected_track_info, n_recommendations)\u001b[0m\n\u001b[0;32m      6\u001b[0m user_song_df \u001b[38;5;241m=\u001b[39m pd\u001b[38;5;241m.\u001b[39mDataFrame([selected_track_info])\n\u001b[0;32m      8\u001b[0m \u001b[38;5;66;03m# 2. Scale the features and predict cluster\u001b[39;00m\n\u001b[1;32m----> 9\u001b[0m scaled_features \u001b[38;5;241m=\u001b[39m spotify_scaler\u001b[38;5;241m.\u001b[39mtransform(\u001b[43muser_song_df\u001b[49m\u001b[43m[\u001b[49m\u001b[43m[\u001b[49m\u001b[38;5;124;43m'\u001b[39;49m\u001b[38;5;124;43mpopularity\u001b[39;49m\u001b[38;5;124;43m'\u001b[39;49m\u001b[43m,\u001b[49m\u001b[43m \u001b[49m\u001b[38;5;124;43m'\u001b[39;49m\u001b[38;5;124;43mduration_ms\u001b[39;49m\u001b[38;5;124;43m'\u001b[39;49m\u001b[43m,\u001b[49m\u001b[43m \u001b[49m\u001b[38;5;124;43m'\u001b[39;49m\u001b[38;5;124;43mexplicit\u001b[39;49m\u001b[38;5;124;43m'\u001b[39;49m\u001b[43m]\u001b[49m\u001b[43m]\u001b[49m)\n\u001b[0;32m     10\u001b[0m cluster \u001b[38;5;241m=\u001b[39m kmeans_model\u001b[38;5;241m.\u001b[39mpredict(scaled_features)[\u001b[38;5;241m0\u001b[39m]\n\u001b[0;32m     12\u001b[0m \u001b[38;5;66;03m# 3. Load clustered dataset and filter for the same cluster\u001b[39;00m\n",
      "File \u001b[1;32mc:\\Users\\manht\\Desktop\\_IRONHACK\\Unit_9_Advanced_ML\\SpotipySongRecommender_practise\\.venv\\Lib\\site-packages\\pandas\\core\\frame.py:4108\u001b[0m, in \u001b[0;36mDataFrame.__getitem__\u001b[1;34m(self, key)\u001b[0m\n\u001b[0;32m   4106\u001b[0m     \u001b[38;5;28;01mif\u001b[39;00m is_iterator(key):\n\u001b[0;32m   4107\u001b[0m         key \u001b[38;5;241m=\u001b[39m \u001b[38;5;28mlist\u001b[39m(key)\n\u001b[1;32m-> 4108\u001b[0m     indexer \u001b[38;5;241m=\u001b[39m \u001b[38;5;28;43mself\u001b[39;49m\u001b[38;5;241;43m.\u001b[39;49m\u001b[43mcolumns\u001b[49m\u001b[38;5;241;43m.\u001b[39;49m\u001b[43m_get_indexer_strict\u001b[49m\u001b[43m(\u001b[49m\u001b[43mkey\u001b[49m\u001b[43m,\u001b[49m\u001b[43m \u001b[49m\u001b[38;5;124;43m\"\u001b[39;49m\u001b[38;5;124;43mcolumns\u001b[39;49m\u001b[38;5;124;43m\"\u001b[39;49m\u001b[43m)\u001b[49m[\u001b[38;5;241m1\u001b[39m]\n\u001b[0;32m   4110\u001b[0m \u001b[38;5;66;03m# take() does not accept boolean indexers\u001b[39;00m\n\u001b[0;32m   4111\u001b[0m \u001b[38;5;28;01mif\u001b[39;00m \u001b[38;5;28mgetattr\u001b[39m(indexer, \u001b[38;5;124m\"\u001b[39m\u001b[38;5;124mdtype\u001b[39m\u001b[38;5;124m\"\u001b[39m, \u001b[38;5;28;01mNone\u001b[39;00m) \u001b[38;5;241m==\u001b[39m \u001b[38;5;28mbool\u001b[39m:\n",
      "File \u001b[1;32mc:\\Users\\manht\\Desktop\\_IRONHACK\\Unit_9_Advanced_ML\\SpotipySongRecommender_practise\\.venv\\Lib\\site-packages\\pandas\\core\\indexes\\base.py:6200\u001b[0m, in \u001b[0;36mIndex._get_indexer_strict\u001b[1;34m(self, key, axis_name)\u001b[0m\n\u001b[0;32m   6197\u001b[0m \u001b[38;5;28;01melse\u001b[39;00m:\n\u001b[0;32m   6198\u001b[0m     keyarr, indexer, new_indexer \u001b[38;5;241m=\u001b[39m \u001b[38;5;28mself\u001b[39m\u001b[38;5;241m.\u001b[39m_reindex_non_unique(keyarr)\n\u001b[1;32m-> 6200\u001b[0m \u001b[38;5;28;43mself\u001b[39;49m\u001b[38;5;241;43m.\u001b[39;49m\u001b[43m_raise_if_missing\u001b[49m\u001b[43m(\u001b[49m\u001b[43mkeyarr\u001b[49m\u001b[43m,\u001b[49m\u001b[43m \u001b[49m\u001b[43mindexer\u001b[49m\u001b[43m,\u001b[49m\u001b[43m \u001b[49m\u001b[43maxis_name\u001b[49m\u001b[43m)\u001b[49m\n\u001b[0;32m   6202\u001b[0m keyarr \u001b[38;5;241m=\u001b[39m \u001b[38;5;28mself\u001b[39m\u001b[38;5;241m.\u001b[39mtake(indexer)\n\u001b[0;32m   6203\u001b[0m \u001b[38;5;28;01mif\u001b[39;00m \u001b[38;5;28misinstance\u001b[39m(key, Index):\n\u001b[0;32m   6204\u001b[0m     \u001b[38;5;66;03m# GH 42790 - Preserve name from an Index\u001b[39;00m\n",
      "File \u001b[1;32mc:\\Users\\manht\\Desktop\\_IRONHACK\\Unit_9_Advanced_ML\\SpotipySongRecommender_practise\\.venv\\Lib\\site-packages\\pandas\\core\\indexes\\base.py:6252\u001b[0m, in \u001b[0;36mIndex._raise_if_missing\u001b[1;34m(self, key, indexer, axis_name)\u001b[0m\n\u001b[0;32m   6249\u001b[0m     \u001b[38;5;28;01mraise\u001b[39;00m \u001b[38;5;167;01mKeyError\u001b[39;00m(\u001b[38;5;124mf\u001b[39m\u001b[38;5;124m\"\u001b[39m\u001b[38;5;124mNone of [\u001b[39m\u001b[38;5;132;01m{\u001b[39;00mkey\u001b[38;5;132;01m}\u001b[39;00m\u001b[38;5;124m] are in the [\u001b[39m\u001b[38;5;132;01m{\u001b[39;00maxis_name\u001b[38;5;132;01m}\u001b[39;00m\u001b[38;5;124m]\u001b[39m\u001b[38;5;124m\"\u001b[39m)\n\u001b[0;32m   6251\u001b[0m not_found \u001b[38;5;241m=\u001b[39m \u001b[38;5;28mlist\u001b[39m(ensure_index(key)[missing_mask\u001b[38;5;241m.\u001b[39mnonzero()[\u001b[38;5;241m0\u001b[39m]]\u001b[38;5;241m.\u001b[39munique())\n\u001b[1;32m-> 6252\u001b[0m \u001b[38;5;28;01mraise\u001b[39;00m \u001b[38;5;167;01mKeyError\u001b[39;00m(\u001b[38;5;124mf\u001b[39m\u001b[38;5;124m\"\u001b[39m\u001b[38;5;132;01m{\u001b[39;00mnot_found\u001b[38;5;132;01m}\u001b[39;00m\u001b[38;5;124m not in index\u001b[39m\u001b[38;5;124m\"\u001b[39m)\n",
      "\u001b[1;31mKeyError\u001b[0m: \"['duration_ms'] not in index\""
     ]
    }
   ],
   "source": [
    "recommendations = get_recommendations(track_info_df.iloc[3])\n",
    "recommendations"
   ]
  },
  {
   "cell_type": "code",
   "execution_count": null,
   "metadata": {},
   "outputs": [],
   "source": []
  },
  {
   "cell_type": "code",
   "execution_count": null,
   "metadata": {},
   "outputs": [],
   "source": []
  }
 ],
 "metadata": {
  "kernelspec": {
   "display_name": ".venv",
   "language": "python",
   "name": "python3"
  },
  "language_info": {
   "codemirror_mode": {
    "name": "ipython",
    "version": 3
   },
   "file_extension": ".py",
   "mimetype": "text/x-python",
   "name": "python",
   "nbconvert_exporter": "python",
   "pygments_lexer": "ipython3",
   "version": "3.12.6"
  }
 },
 "nbformat": 4,
 "nbformat_minor": 2
}
